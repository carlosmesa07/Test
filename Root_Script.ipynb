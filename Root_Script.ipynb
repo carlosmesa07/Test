{
 "cells": [
  {
   "cell_type": "markdown",
   "metadata": {},
   "source": [
    "# Version0"
   ]
  },
  {
   "cell_type": "code",
   "execution_count": 32,
   "metadata": {},
   "outputs": [
    {
     "name": "stdout",
     "output_type": "stream",
     "text": [
      "These 140 files represent stems of the Netherlands\n"
     ]
    }
   ],
   "source": [
    "# Import libraries\n",
    "import pandas as pd #Test3 #Testing\n",
    "import glob #Pending\n",
    "\n",
    "# Location files\n",
    "files = glob.glob('E:/TreeData_NEO/L1_stems/stems_grid/'+'*shp')\n",
    "print(f'These {len(files)} files represent stems of the Netherlands')\n",
    "\n",
    "##Merge1\n",
    "## Test1\n",
    "## Test 2\n",
    "## Test3 \n",
    "##Test4\n",
    "#Test5."
   ]
  }
 ],
 "metadata": {
  "kernelspec": {
   "display_name": "Python 3",
   "language": "python",
   "name": "python3"
  },
  "language_info": {
   "codemirror_mode": {
    "name": "ipython",
    "version": 3
   },
   "file_extension": ".py",
   "mimetype": "text/x-python",
   "name": "python",
   "nbconvert_exporter": "python",
   "pygments_lexer": "ipython3",
   "version": "3.8.3"
  }
 },
 "nbformat": 4,
 "nbformat_minor": 4
}
